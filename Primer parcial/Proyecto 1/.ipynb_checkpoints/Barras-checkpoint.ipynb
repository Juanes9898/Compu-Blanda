{
 "cells": [
  {
   "cell_type": "code",
   "execution_count": 143,
   "metadata": {},
   "outputs": [
    {
     "data": {
      "image/png": "[encoded data removed]",
      "text/plain": [
       "<Figure size 576x432 with 1 Axes>"
      ]
     },
     "metadata": {
      "needs_background": "light"
     },
     "output_type": "display_data"
    }
   ],
   "source": [
    "# libraries\n",
    "import numpy as np\n",
    "import matplotlib.pyplot as plt\n",
    " \n",
    "# width of the bars\n",
    "barWidth = 0.5\n",
    "\n",
    "#datos\n",
    "A = ([x for x in range(-10,10,2)])\n",
    "bars1 =  [10, 40, 70, 110, 82, 61, 39, 25, 19, 9] #p1\n",
    "bars2 =  [13, 27, 45, 75, 98, 120, 95, 65, 23, 8] #p2\n",
    " \n",
    "# The x position of bars\n",
    "r1 = np.arange(len(bars1))\n",
    "r2 = [x + barWidth for x in r1]\n",
    "\n",
    "#size of image\n",
    "plt.figure(num=None, figsize=(8, 6))\n",
    "\n",
    "# Create blue bars\n",
    "plt.bar(r1, bars1, width = barWidth, color = 'blue',  label='p=1')\n",
    " \n",
    "# Create orange bars, the alpha = sombreado de la superposición\n",
    "plt.bar(r1, bars2, width = barWidth, color = 'orange', alpha=0.5, label='p=2')\n",
    "\n",
    "# general layout\n",
    "\n",
    "#Coger valores de A\n",
    "plt.xticks([r for r in range(len(A))], [\"-10 to -8\",\"-8 to -6\",\"-6 to -4\",\n",
    "                                         \"-4 to -2\",\"-2 to 0\",\"0 to 2\",\n",
    "                                         \"2 to 4\",\"4 to 6\",\"6 to 8\",\n",
    "                                         \"8 to 10\"])\n",
    "\n",
    "\n",
    "plt.autoscale(tight=True)\n",
    "plt.ylim(0,130)\n",
    "plt.title(\"Titulo \", fontsize=20, color=\"b\")  #Cambio titulo, tamaño y color, si no pone por defecto es del color de alejo\n",
    "plt.xlabel(\"Variable A\", fontsize=15)\n",
    "plt.ylabel(\"Experiment result\", fontsize=15)\n",
    "plt.legend()\n",
    "plt.savefig('lab4_PX_figY.png')\n",
    "\n",
    "# Show graphic\n",
    "plt.show()\n"
   ]
  },
  {
   "cell_type": "code",
   "execution_count": null,
   "metadata": {},
   "outputs": [],
   "source": []
  },
  {
   "cell_type": "code",
   "execution_count": null,
   "metadata": {},
   "outputs": [],
   "source": []
  }
 ],
 "metadata": {
  "kernelspec": {
   "display_name": "Python 3",
   "language": "python",
   "name": "python3"
  },
  "language_info": {
   "codemirror_mode": {
    "name": "ipython",
    "version": 3
   },
   "file_extension": ".py",
   "mimetype": "text/x-python",
   "name": "python",
   "nbconvert_exporter": "python",
   "pygments_lexer": "ipython3",
   "version": "3.8.3"
  }
 },
 "nbformat": 4,
 "nbformat_minor": 4
}
